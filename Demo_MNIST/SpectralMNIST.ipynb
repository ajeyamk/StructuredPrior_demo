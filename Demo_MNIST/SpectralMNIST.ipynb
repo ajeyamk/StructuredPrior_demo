{
 "cells": [
  {
   "cell_type": "markdown",
   "metadata": {},
   "source": [
    "# A demo of the spectral method for structured models\n",
    "\n",
    "In this demo, we are going to apply the Wigner rank one denoising problem to a structured model. To do so, we are simply downloading the MNIST data set, and use a very simple (some would say trivial) model for its structure by simply measuring the covariance matrix $\\Sigma$ between images. As we shall see, this is enough to improve on the spectral method.\n",
    "\n",
    "First, we download the MNIST dataset:"
   ]
  },
  {
   "cell_type": "code",
   "execution_count": 1,
   "metadata": {
    "scrolled": true
   },
   "outputs": [
    {
     "name": "stdout",
     "output_type": "stream",
     "text": [
      "60000 train set\n",
      "10000 test set\n"
     ]
    },
    {
     "data": {
      "text/plain": [
       "<matplotlib.image.AxesImage at 0x1262619b0>"
      ]
     },
     "execution_count": 1,
     "metadata": {},
     "output_type": "execute_result"
    },
    {
     "data": {
      "image/png": "[encoded data removed]",
      "text/plain": [
       "<Figure size 432x288 with 4 Axes>"
      ]
     },
     "metadata": {
      "needs_background": "light"
     },
     "output_type": "display_data"
    }
   ],
   "source": [
    "import tensorflow as tf\n",
    "import numpy as np\n",
    "import matplotlib.pyplot as plt\n",
    "%matplotlib inline\n",
    "\n",
    "# Load the fashion-mnist pre-shuffled train data and test data\n",
    "(x_train, y_train), (x_test, y_test) = tf.keras.datasets.mnist.load_data()\n",
    "\n",
    "# Print the number of training and test datasets\n",
    "print(x_train.shape[0], 'train set')\n",
    "print(x_test.shape[0], 'test set')\n",
    "\n",
    "plt.subplot(221)\n",
    "img_index = 51432\n",
    "plt.imshow(x_train[img_index],cmap='Greys')\n",
    "\n",
    "plt.subplot(222)\n",
    "img_index = 567\n",
    "plt.imshow(x_train[img_index],cmap='Greys')\n",
    "\n",
    "plt.subplot(223)\n",
    "img_index = 26579\n",
    "plt.imshow(x_train[img_index],cmap='Greys')\n",
    "\n",
    "plt.subplot(224)\n",
    "img_index = 8765\n",
    "plt.imshow(x_train[img_index],cmap='Greys')"
   ]
  },
  {
   "cell_type": "markdown",
   "metadata": {},
   "source": [
    "All right, let us build our data set for the rank-one problem. We center the data, normalize them, and compute the empirical correlation $\\Sigma$."
   ]
  },
  {
   "cell_type": "code",
   "execution_count": 2,
   "metadata": {},
   "outputs": [],
   "source": [
    "data=x_train.reshape(60000,784)-np.sum(x_train.reshape(60000,784),1).reshape(60000,1)/784\n",
    "data=tf.keras.utils.normalize(data, axis=-1,order=2)*np.sqrt(784)\n",
    "SIGMA=data.T@data/60000;\n",
    "\n",
    "data_test=x_test.reshape(10000,784)-np.sum(x_test.reshape(10000,784),1).reshape(10000,1)/784\n",
    "data_test=tf.keras.utils.normalize(data_test, axis=-1,order=2)*np.sqrt(784)"
   ]
  },
  {
   "cell_type": "markdown",
   "metadata": {},
   "source": [
    "All right, now, let us pick up a given unseen image from the test set and do the rank one stuff:"
   ]
  },
  {
   "cell_type": "code",
   "execution_count": 3,
   "metadata": {},
   "outputs": [
    {
     "data": {
      "text/plain": [
       "<matplotlib.image.AxesImage at 0x1316eb710>"
      ]
     },
     "execution_count": 3,
     "metadata": {},
     "output_type": "execute_result"
    },
    {
     "data": {
      "image/png": "[encoded data removed]",
      "text/plain": [
       "<Figure size 432x288 with 1 Axes>"
      ]
     },
     "metadata": {
      "needs_background": "light"
     },
     "output_type": "display_data"
    }
   ],
   "source": [
    "#x=data_test[2209].reshape(784,1)\n",
    "x=data_test[5609].reshape(784,1)\n",
    "plt.imshow(x.reshape(28,28),cmap='Greys')"
   ]
  },
  {
   "cell_type": "code",
   "execution_count": 4,
   "metadata": {},
   "outputs": [],
   "source": [
    "N = 784\n",
    "#create noise, and the random matrix observation:\n",
    "b = np.random.randn(N,N)\n",
    "W = np.tril(b) + np.tril(b, -1).T\n",
    "DELTA=3\n",
    "Y = x@x.T/(N) + np.sqrt(DELTA)*W/np.sqrt(N)"
   ]
  },
  {
   "cell_type": "markdown",
   "metadata": {},
   "source": [
    "First, we try to apply the standard PCA approach:"
   ]
  },
  {
   "cell_type": "code",
   "execution_count": 5,
   "metadata": {
    "scrolled": false
   },
   "outputs": [
    {
     "data": {
      "text/plain": [
       "<matplotlib.image.AxesImage at 0x1395626d8>"
      ]
     },
     "execution_count": 5,
     "metadata": {},
     "output_type": "execute_result"
    },
    {
     "data": {
      "image/png": "[encoded data removed]",
      "text/plain": [
       "<Figure size 432x288 with 1 Axes>"
      ]
     },
     "metadata": {
      "needs_background": "light"
     },
     "output_type": "display_data"
    }
   ],
   "source": [
    "from scipy.sparse.linalg import eigsh,eigs\n",
    "# Method one: naive PCA\n",
    "val, vec = eigsh(Y, k=1,which='LA')\n",
    "plt.imshow(vec.reshape(28,28),cmap='Greys')"
   ]
  },
  {
   "cell_type": "markdown",
   "metadata": {},
   "source": [
    "And the improve spectral approach, that uses the correlation:"
   ]
  },
  {
   "cell_type": "code",
   "execution_count": 6,
   "metadata": {
    "scrolled": true
   },
   "outputs": [
    {
     "data": {
      "text/plain": [
       "<matplotlib.image.AxesImage at 0x13ab0f748>"
      ]
     },
     "execution_count": 6,
     "metadata": {},
     "output_type": "execute_result"
    },
    {
     "data": {
      "image/png": "[encoded data removed]",
      "text/plain": [
       "<Figure size 432x288 with 1 Axes>"
      ]
     },
     "metadata": {
      "needs_background": "light"
     },
     "output_type": "display_data"
    }
   ],
   "source": [
    "# Method two: linearized AMP: LAMP\n",
    "val, vec = eigs(SIGMA@(Y-np.eye(784,784)), k=1,which='LR')\n",
    "plt.imshow((vec.real).reshape(28,28),cmap='Greys')"
   ]
  },
  {
   "cell_type": "markdown",
   "metadata": {},
   "source": [
    "The difference is really strinking. We can actually plot the mean-square error that the two methods yields as a function of $\\Delta$:"
   ]
  },
  {
   "cell_type": "code",
   "execution_count": 7,
   "metadata": {},
   "outputs": [
    {
     "name": "stdout",
     "output_type": "stream",
     "text": [
      "1   1.4872407459936048   0.16738399009186705\n",
      "2   1.9402286476760946   0.27718094291991835\n",
      "3   1.9490870239842817   0.2967250271008078\n",
      "4   1.897655260557435   0.2798257132253814\n",
      "5   1.723554770444399   0.3925387373825087\n",
      "6   1.9317558703527342   0.33362861827090223\n",
      "7   1.9921236723346303   0.543852508035826\n",
      "8   1.7060738989777624   0.4130391402179883\n",
      "9   1.9494762839795565   0.500179213677947\n",
      "10   1.8003176146023554   0.5250980326106209\n",
      "11   1.9952471952771829   0.4465798831202047\n",
      "12   1.7645761394647226   0.42741766338912807\n",
      "13   1.920196533151087   0.5470121891677585\n",
      "14   1.9951895065505056   0.453954213719709\n",
      "15   1.8854261055233545   0.421289832398373\n",
      "16   1.8737287588234584   0.3908781947556162\n",
      "17   1.969029280760767   0.4980357206563001\n",
      "18   1.9750789274549714   1.4377376989335573\n",
      "19   1.9934410722226485   0.6716285593719419\n",
      "20   1.871197910432821   0.6641459600694601\n",
      "21   1.9687515667886883   0.9714898351901695\n",
      "22   1.9546849649145097   0.815710175685861\n",
      "23   1.9077499014736157   0.9410753642122028\n",
      "24   1.8969362544843082   0.4338440583085508\n",
      "25   1.8757049062172224   0.8993033967682953\n",
      "26   1.9953964636260901   0.7469463596728256\n",
      "27   1.9497001348000027   0.5562279101819024\n",
      "28   1.9228668404453721   0.9021591846045404\n",
      "29   1.9859496779059151   0.5757855339149487\n",
      "30   1.8243030561636402   0.9578185113099584\n",
      "31   1.988611062315618   1.1340756030482138\n",
      "32   1.9299262777075692   0.6351847708816881\n",
      "33   1.9025428471608923   0.7593579270460736\n",
      "34   1.9407269007769468   0.835802440712959\n",
      "35   1.8523623063645125   1.2691882359350142\n",
      "36   1.935356800454239   0.7404150265287549\n",
      "37   1.903546144103116   1.3202395300692684\n",
      "38   1.9410239568383687   0.8012259396574767\n",
      "39   1.9413221699804284   1.1301700647213928\n",
      "40   1.9909780401552106   1.8272591066686201\n",
      "41   1.9161718811987003   1.0244337322342014\n",
      "42   1.9263438667187642   1.113168255320203\n",
      "43   1.8241309740895228   0.8980506332278873\n",
      "44   1.9902722296925772   0.8359609487425432\n",
      "45   1.9907531461450256   0.9842257416329873\n",
      "46   1.8853672405104667   1.2697269503417317\n",
      "47   1.9672176803195278   0.8978369069056448\n",
      "48   1.8389598524758108   0.5571403983330405\n",
      "49   1.9493226344594696   1.1436405236079732\n",
      "50   1.930455616163137   1.0676796287038564\n"
     ]
    }
   ],
   "source": [
    "MSEs = np.zeros((50,2))\n",
    "deltas = np.zeros((50,1))\n",
    "DELTA=0\n",
    "d_DELTA=1\n",
    "\n",
    "for i in range(50):\n",
    "    #create noise\n",
    "    b = np.random.randn(N,N)\n",
    "    W = np.tril(b) + np.tril(b, -1).T\n",
    "    DELTA=DELTA+d_DELTA\n",
    "    Y = x@x.T/(N) + np.sqrt(DELTA)*W/np.sqrt(N)\n",
    "    \n",
    "    deltas[i]=DELTA\n",
    "    # PCA\n",
    "    val, vec = eigsh(Y, k=1,which='LA')\n",
    "    error_1=sum((x/np.sqrt(N) - vec)**2)\n",
    "    error_2=sum((x/np.sqrt(N) + vec)**2)\n",
    "    MSEs[i,0]=min(error_1,error_2)\n",
    "    \n",
    "     # LAMP\n",
    "    val, vec = eigs(SIGMA@(Y-np.eye(784,784)), k=1,which='LR')\n",
    "    error_1=sum((x/np.sqrt(N) - vec.real)**2)\n",
    "    error_2=sum((x/np.sqrt(N) + vec.real)**2)\n",
    "    MSEs[i,1]=min(error_1,error_2)\n",
    "\n",
    "    print(DELTA,\" \",MSEs[i,0],\" \",MSEs[i,1])"
   ]
  },
  {
   "cell_type": "code",
   "execution_count": 8,
   "metadata": {},
   "outputs": [
    {
     "data": {
      "text/plain": [
       "<matplotlib.legend.Legend at 0x13b0ca198>"
      ]
     },
     "execution_count": 8,
     "metadata": {},
     "output_type": "execute_result"
    },
    {
     "data": {
      "image/png": "[encoded data removed]",
      "text/plain": [
       "<Figure size 432x288 with 1 Axes>"
      ]
     },
     "metadata": {
      "needs_background": "light"
     },
     "output_type": "display_data"
    }
   ],
   "source": [
    "plt.figure()\n",
    "plt.title(\"Fashion MNIST recovery\")\n",
    "plt.plot(deltas,MSEs[:,0],'*-', label='PCA')\n",
    "plt.plot(deltas,MSEs[:,1],'+-', label='LAMP')\n",
    "plt.xlabel(\"$\\Delta$\")\n",
    "plt.ylabel(\"$MSE$\")\n",
    "plt.legend()"
   ]
  },
  {
   "cell_type": "code",
   "execution_count": null,
   "metadata": {},
   "outputs": [],
   "source": []
  }
 ],
 "metadata": {
  "kernelspec": {
   "display_name": "Python 3",
   "language": "python",
   "name": "python3"
  },
  "language_info": {
   "codemirror_mode": {
    "name": "ipython",
    "version": 3
   },
   "file_extension": ".py",
   "mimetype": "text/x-python",
   "name": "python",
   "nbconvert_exporter": "python",
   "pygments_lexer": "ipython3",
   "version": "3.6.7"
  }
 },
 "nbformat": 4,
 "nbformat_minor": 2
}
